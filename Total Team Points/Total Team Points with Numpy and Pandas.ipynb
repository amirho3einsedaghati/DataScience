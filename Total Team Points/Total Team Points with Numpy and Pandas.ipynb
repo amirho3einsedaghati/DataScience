{
 "cells": [
  {
   "cell_type": "code",
   "execution_count": 38,
   "id": "d4a14626",
   "metadata": {},
   "outputs": [],
   "source": [
    "import numpy as np\n",
    "import pandas as pd "
   ]
  },
  {
   "cell_type": "markdown",
   "id": "b7670559",
   "metadata": {},
   "source": [
    "## the Total points for group B in world cup matches:"
   ]
  },
  {
   "cell_type": "markdown",
   "id": "ba873351",
   "metadata": {},
   "source": [
    "__Static mode:__"
   ]
  },
  {
   "cell_type": "code",
   "execution_count": 37,
   "id": "52dda7b0",
   "metadata": {},
   "outputs": [
    {
     "name": "stdout",
     "output_type": "stream",
     "text": [
      "[[3 1 3 7]\n",
      " [1 1 3 5]\n",
      " [0 3 0 3]\n",
      " [1 0 0 1]]\n"
     ]
    }
   ],
   "source": [
    "FifaWorldCupGroupB = np.array([[3, 1, 3, 0], [1, 1, 3, 0], [0, 3, 0, 0], [1, 0, 0, 0]])\n",
    "\n",
    "for i in range(0, 4):\n",
    "    for j in range(0, 3):\n",
    "        FifaWorldCupGroupB[i][3] += FifaWorldCupGroupB[i][j]\n",
    "        \n",
    "print(FifaWorldCupGroupB)"
   ]
  },
  {
   "cell_type": "markdown",
   "id": "cd555430",
   "metadata": {},
   "source": [
    "## Application: The total points for all of teams in each group or league"
   ]
  },
  {
   "cell_type": "markdown",
   "id": "aac8833a",
   "metadata": {},
   "source": [
    "__Dynamic mode:__"
   ]
  },
  {
   "cell_type": "code",
   "execution_count": 163,
   "id": "299c865c",
   "metadata": {},
   "outputs": [],
   "source": [
    "class TableOfTotalPoints():\n",
    "    \n",
    "    # By using this function, We're going to assign the total values of each instance to the last column of each row\n",
    "    def __total_scores(self, *args):\n",
    "        args = list(args) # convert args to a List of iterables\n",
    "        for instance in args: # Iterate each intances\n",
    "            instance.append(0) # Add the total value to each instances  \n",
    "        \n",
    "        teams = np.array(args) # Create a 2D array\n",
    "        # we're using .tolist() or list() to convert numpy.ndarry to a list\n",
    "        instancesNum = len(teams[:, 0].tolist()) # determine the number of instances\n",
    "        featuresNum = len(teams[0].tolist()) - 1 # determine the number of features without counting the last column of each row\n",
    "        lastColIndex = featuresNum # the index of last column of each rows\n",
    "    \n",
    "        for i in range(0, instancesNum):\n",
    "            for j in range(0, featuresNum):\n",
    "                teams[i,lastColIndex] += teams[i][j]\n",
    "                \n",
    "        return teams\n",
    "    \n",
    "    \n",
    "    \n",
    "    \n",
    "    def __point_matcher(self, M:np.ndarray):\n",
    "        li = []\n",
    "        dic = {'W' : 0 , 'D': 0 , 'L': 0 , 'Pts': np.nan}\n",
    "\n",
    "        instancesNum = len(M[:, 0].tolist()) \n",
    "        featuresNum = len(M[0].tolist()) \n",
    "\n",
    "        for i in range(0, instancesNum):\n",
    "            for j in range(0, featuresNum):\n",
    "                if j != featuresNum - 1:\n",
    "                    if M[i, j] == 3:\n",
    "                         dic['W'] += 1\n",
    "                    elif M[i, j] == 1:\n",
    "                        dic['D'] += 1\n",
    "                    else:\n",
    "                        dic['L'] += 1\n",
    "                else:\n",
    "                    dic['Pts'] = M[i, j]  \n",
    "            li.append(dic)\n",
    "            dic = {'W' : 0 , 'D': 0 , 'L': 0 , 'Pts': np.nan}\n",
    "\n",
    "        return li\n",
    "    \n",
    "    \n",
    "    \n",
    "    \n",
    "    def get_table_teams(self, teamNames:list, *args):\n",
    "        data = {}\n",
    "        cols = []\n",
    "        # We should iterate args elements because we can not pass in a tuple or a list of lists to total_scores() function.\n",
    "        for li in args: # args is a tuple of lists\n",
    "            cols.append(point_matcher(total_scores(li)))\n",
    "\n",
    "        for i in range(len(teamNames)):\n",
    "            data.update({teamNames[i] : cols[i][0]})\n",
    "        \n",
    "        df = pd.DataFrame(data).T\n",
    "        df = df.sort_values(['Pts'], ascending=False)\n",
    "        return df"
   ]
  },
  {
   "cell_type": "code",
   "execution_count": 164,
   "id": "587c5342",
   "metadata": {},
   "outputs": [
    {
     "name": "stdout",
     "output_type": "stream",
     "text": [
      "['_TableOfTotalPoints__point_matcher', '_TableOfTotalPoints__total_scores', '__class__', '__delattr__', '__dict__', '__dir__', '__doc__', '__eq__', '__format__', '__ge__', '__getattribute__', '__gt__', '__hash__', '__init__', '__init_subclass__', '__le__', '__lt__', '__module__', '__ne__', '__new__', '__reduce__', '__reduce_ex__', '__repr__', '__setattr__', '__sizeof__', '__str__', '__subclasshook__', '__weakref__', 'get_table_teams']\n"
     ]
    }
   ],
   "source": [
    "table = TableOfTotalPoints()\n",
    "print(dir(table))"
   ]
  },
  {
   "cell_type": "markdown",
   "id": "44aa9651",
   "metadata": {},
   "source": [
    "As you can see, we can't directly access the total_scores and point_matcher functions, but we can access them using the name mangling process."
   ]
  },
  {
   "cell_type": "code",
   "execution_count": 169,
   "id": "7cf02ae8",
   "metadata": {},
   "outputs": [
    {
     "data": {
      "text/plain": [
       "array([[1, 0, 3, 4],\n",
       "       [0, 0, 3, 3],\n",
       "       [1, 1, 1, 3],\n",
       "       [3, 3, 3, 9]])"
      ]
     },
     "execution_count": 169,
     "metadata": {},
     "output_type": "execute_result"
    }
   ],
   "source": [
    "table._TableOfTotalPoints__total_scores([1,0,3], [0,0,3], [1,1,1], [3,3,3])"
   ]
  },
  {
   "cell_type": "code",
   "execution_count": 166,
   "id": "d76038cb",
   "metadata": {},
   "outputs": [
    {
     "data": {
      "text/plain": [
       "array([[3, 1, 3, 0, 7],\n",
       "       [1, 1, 3, 0, 5],\n",
       "       [0, 3, 0, 0, 3],\n",
       "       [1, 0, 0, 0, 1]])"
      ]
     },
     "execution_count": 166,
     "metadata": {},
     "output_type": "execute_result"
    }
   ],
   "source": [
    "table._TableOfTotalPoints__total_scores([3, 1, 3, 0], [1, 1, 3, 0], [0, 3, 0, 0], [1, 0, 0, 0])"
   ]
  },
  {
   "cell_type": "code",
   "execution_count": 173,
   "id": "ee3cadb3",
   "metadata": {},
   "outputs": [
    {
     "data": {
      "text/plain": [
       "[{'W': 2, 'D': 1, 'L': 1, 'Pts': 7},\n",
       " {'W': 1, 'D': 2, 'L': 1, 'Pts': 5},\n",
       " {'W': 1, 'D': 0, 'L': 3, 'Pts': 3},\n",
       " {'W': 0, 'D': 1, 'L': 3, 'Pts': 1}]"
      ]
     },
     "execution_count": 173,
     "metadata": {},
     "output_type": "execute_result"
    }
   ],
   "source": [
    "table._TableOfTotalPoints__point_matcher(table._TableOfTotalPoints__total_scores([3, 1, 3, 0],\n",
    "                                                                                 [1, 1, 3, 0],\n",
    "                                                                                 [0, 3, 0, 0],\n",
    "                                                                                 [1, 0, 0, 0]))"
   ]
  },
  {
   "cell_type": "markdown",
   "id": "1c968175",
   "metadata": {},
   "source": [
    "<br> </br>"
   ]
  },
  {
   "cell_type": "code",
   "execution_count": 171,
   "id": "83583a71",
   "metadata": {},
   "outputs": [
    {
     "data": {
      "text/html": [
       "<div>\n",
       "<style scoped>\n",
       "    .dataframe tbody tr th:only-of-type {\n",
       "        vertical-align: middle;\n",
       "    }\n",
       "\n",
       "    .dataframe tbody tr th {\n",
       "        vertical-align: top;\n",
       "    }\n",
       "\n",
       "    .dataframe thead th {\n",
       "        text-align: right;\n",
       "    }\n",
       "</style>\n",
       "<table border=\"1\" class=\"dataframe\">\n",
       "  <thead>\n",
       "    <tr style=\"text-align: right;\">\n",
       "      <th></th>\n",
       "      <th>W</th>\n",
       "      <th>D</th>\n",
       "      <th>L</th>\n",
       "      <th>Pts</th>\n",
       "    </tr>\n",
       "  </thead>\n",
       "  <tbody>\n",
       "    <tr>\n",
       "      <th>England</th>\n",
       "      <td>2</td>\n",
       "      <td>1</td>\n",
       "      <td>1</td>\n",
       "      <td>7</td>\n",
       "    </tr>\n",
       "    <tr>\n",
       "      <th>United States</th>\n",
       "      <td>1</td>\n",
       "      <td>2</td>\n",
       "      <td>1</td>\n",
       "      <td>5</td>\n",
       "    </tr>\n",
       "    <tr>\n",
       "      <th>Iran</th>\n",
       "      <td>1</td>\n",
       "      <td>0</td>\n",
       "      <td>3</td>\n",
       "      <td>3</td>\n",
       "    </tr>\n",
       "    <tr>\n",
       "      <th>Wales</th>\n",
       "      <td>0</td>\n",
       "      <td>1</td>\n",
       "      <td>3</td>\n",
       "      <td>1</td>\n",
       "    </tr>\n",
       "  </tbody>\n",
       "</table>\n",
       "</div>"
      ],
      "text/plain": [
       "               W  D  L  Pts\n",
       "England        2  1  1    7\n",
       "United States  1  2  1    5\n",
       "Iran           1  0  3    3\n",
       "Wales          0  1  3    1"
      ]
     },
     "execution_count": 171,
     "metadata": {},
     "output_type": "execute_result"
    }
   ],
   "source": [
    "table.get_table_teams(['England', 'United States', 'Iran', 'Wales'], [3, 1, 3, 0], [1, 1, 3, 0], [0, 3, 0, 0], [1, 0, 0, 0])"
   ]
  }
 ],
 "metadata": {
  "kernelspec": {
   "display_name": "Python 3 (ipykernel)",
   "language": "python",
   "name": "python3"
  },
  "language_info": {
   "codemirror_mode": {
    "name": "ipython",
    "version": 3
   },
   "file_extension": ".py",
   "mimetype": "text/x-python",
   "name": "python",
   "nbconvert_exporter": "python",
   "pygments_lexer": "ipython3",
   "version": "3.9.7"
  },
  "latex_envs": {
   "LaTeX_envs_menu_present": true,
   "autoclose": false,
   "autocomplete": true,
   "bibliofile": "biblio.bib",
   "cite_by": "apalike",
   "current_citInitial": 1,
   "eqLabelWithNumbers": true,
   "eqNumInitial": 1,
   "hotkeys": {
    "equation": "Ctrl-E",
    "itemize": "Ctrl-I"
   },
   "labels_anchors": false,
   "latex_user_defs": false,
   "report_style_numbering": false,
   "user_envs_cfg": false
  }
 },
 "nbformat": 4,
 "nbformat_minor": 5
}
