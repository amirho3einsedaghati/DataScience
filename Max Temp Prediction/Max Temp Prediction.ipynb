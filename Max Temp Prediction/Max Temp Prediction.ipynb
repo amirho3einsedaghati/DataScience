{
 "cells": [
  {
   "cell_type": "markdown",
   "metadata": {},
   "source": [
    "This data was obtained from kaggle, You can downlload it from this [address](https://www.kaggle.com/datasets/amirhoseinsedaghati/the-weather-of-187-countries-in-2020)"
   ]
  },
  {
   "cell_type": "code",
   "execution_count": 1,
   "metadata": {
    "execution": {
     "iopub.execute_input": "2023-07-13T16:05:11.481613Z",
     "iopub.status.busy": "2023-07-13T16:05:11.481076Z",
     "iopub.status.idle": "2023-07-13T16:05:11.496751Z",
     "shell.execute_reply": "2023-07-13T16:05:11.495395Z",
     "shell.execute_reply.started": "2023-07-13T16:05:11.481570Z"
    }
   },
   "outputs": [],
   "source": [
    "import numpy as np\n",
    "import pandas as pd\n",
    "import matplotlib.pyplot as plt\n",
    "import seaborn as sns\n",
    "from sklearn.preprocessing import LabelEncoder, OneHotEncoder, MinMaxScaler \n",
    "from sklearn.compose import ColumnTransformer\n",
    "from scipy.sparse import csr_matrix\n",
    "from sklearn.model_selection import train_test_split\n",
    "from sklearn.ensemble import GradientBoostingRegressor\n",
    "import xgboost as xgb\n",
    "from catboost import CatBoostRegressor\n",
    "from sklearn.metrics import mean_squared_error, mean_absolute_error, r2_score\n",
    "import plotly.express as px\n",
    "import plotly.graph_objs as go\n",
    "import plotly.io as pio\n",
    "pio.renderers.default = 'iframe'\n",
    "%matplotlib inline"
   ]
  },
  {
   "cell_type": "markdown",
   "metadata": {},
   "source": [
    "# 1. EDA"
   ]
  },
  {
   "cell_type": "markdown",
   "metadata": {},
   "source": [
    "## 1.x. Data Understanding"
   ]
  },
  {
   "cell_type": "code",
   "execution_count": 3,
   "metadata": {
    "execution": {
     "iopub.execute_input": "2023-07-13T14:25:08.604614Z",
     "iopub.status.busy": "2023-07-13T14:25:08.603233Z",
     "iopub.status.idle": "2023-07-13T14:25:12.775646Z",
     "shell.execute_reply": "2023-07-13T14:25:12.774491Z",
     "shell.execute_reply.started": "2023-07-13T14:25:08.604560Z"
    }
   },
   "outputs": [
    {
     "data": {
      "text/html": [
       "<div>\n",
       "<style scoped>\n",
       "    .dataframe tbody tr th:only-of-type {\n",
       "        vertical-align: middle;\n",
       "    }\n",
       "\n",
       "    .dataframe tbody tr th {\n",
       "        vertical-align: top;\n",
       "    }\n",
       "\n",
       "    .dataframe thead th {\n",
       "        text-align: right;\n",
       "    }\n",
       "</style>\n",
       "<table border=\"1\" class=\"dataframe\">\n",
       "  <thead>\n",
       "    <tr style=\"text-align: right;\">\n",
       "      <th></th>\n",
       "      <th>STATION</th>\n",
       "      <th>Country/Region</th>\n",
       "      <th>DATE</th>\n",
       "      <th>Year</th>\n",
       "      <th>Month</th>\n",
       "      <th>Day</th>\n",
       "      <th>PRCP</th>\n",
       "      <th>SNWD</th>\n",
       "      <th>TAVG</th>\n",
       "      <th>TMAX</th>\n",
       "      <th>...</th>\n",
       "      <th>LONGITUDE</th>\n",
       "      <th>ELEVATION</th>\n",
       "      <th>PRCP_ATTRIBUTES</th>\n",
       "      <th>TAVG_ATTRIBUTES</th>\n",
       "      <th>TMAX_ATTRIBUTES</th>\n",
       "      <th>TMIN_ATTRIBUTES</th>\n",
       "      <th>DAPR</th>\n",
       "      <th>MDPR</th>\n",
       "      <th>WESD</th>\n",
       "      <th>SNWD_ATTRIBUTES</th>\n",
       "    </tr>\n",
       "  </thead>\n",
       "  <tbody>\n",
       "    <tr>\n",
       "      <th>0</th>\n",
       "      <td>TZ000063894</td>\n",
       "      <td>Comoros</td>\n",
       "      <td>2020-01-22</td>\n",
       "      <td>2020</td>\n",
       "      <td>1</td>\n",
       "      <td>22</td>\n",
       "      <td>10.9</td>\n",
       "      <td>NaN</td>\n",
       "      <td>27.6</td>\n",
       "      <td>30.2</td>\n",
       "      <td>...</td>\n",
       "      <td>NaN</td>\n",
       "      <td>NaN</td>\n",
       "      <td>NaN</td>\n",
       "      <td>NaN</td>\n",
       "      <td>NaN</td>\n",
       "      <td>NaN</td>\n",
       "      <td>NaN</td>\n",
       "      <td>NaN</td>\n",
       "      <td>NaN</td>\n",
       "      <td>NaN</td>\n",
       "    </tr>\n",
       "    <tr>\n",
       "      <th>1</th>\n",
       "      <td>TZ000063894</td>\n",
       "      <td>Comoros</td>\n",
       "      <td>2020-01-23</td>\n",
       "      <td>2020</td>\n",
       "      <td>1</td>\n",
       "      <td>23</td>\n",
       "      <td>0.0</td>\n",
       "      <td>NaN</td>\n",
       "      <td>26.7</td>\n",
       "      <td>NaN</td>\n",
       "      <td>...</td>\n",
       "      <td>NaN</td>\n",
       "      <td>NaN</td>\n",
       "      <td>NaN</td>\n",
       "      <td>NaN</td>\n",
       "      <td>NaN</td>\n",
       "      <td>NaN</td>\n",
       "      <td>NaN</td>\n",
       "      <td>NaN</td>\n",
       "      <td>NaN</td>\n",
       "      <td>NaN</td>\n",
       "    </tr>\n",
       "    <tr>\n",
       "      <th>2</th>\n",
       "      <td>TZ000063894</td>\n",
       "      <td>Comoros</td>\n",
       "      <td>2020-01-24</td>\n",
       "      <td>2020</td>\n",
       "      <td>1</td>\n",
       "      <td>24</td>\n",
       "      <td>9.4</td>\n",
       "      <td>NaN</td>\n",
       "      <td>27.9</td>\n",
       "      <td>30.6</td>\n",
       "      <td>...</td>\n",
       "      <td>NaN</td>\n",
       "      <td>NaN</td>\n",
       "      <td>NaN</td>\n",
       "      <td>NaN</td>\n",
       "      <td>NaN</td>\n",
       "      <td>NaN</td>\n",
       "      <td>NaN</td>\n",
       "      <td>NaN</td>\n",
       "      <td>NaN</td>\n",
       "      <td>NaN</td>\n",
       "    </tr>\n",
       "    <tr>\n",
       "      <th>3</th>\n",
       "      <td>TZ000063894</td>\n",
       "      <td>Comoros</td>\n",
       "      <td>2020-01-25</td>\n",
       "      <td>2020</td>\n",
       "      <td>1</td>\n",
       "      <td>25</td>\n",
       "      <td>0.3</td>\n",
       "      <td>NaN</td>\n",
       "      <td>27.9</td>\n",
       "      <td>30.2</td>\n",
       "      <td>...</td>\n",
       "      <td>NaN</td>\n",
       "      <td>NaN</td>\n",
       "      <td>NaN</td>\n",
       "      <td>NaN</td>\n",
       "      <td>NaN</td>\n",
       "      <td>NaN</td>\n",
       "      <td>NaN</td>\n",
       "      <td>NaN</td>\n",
       "      <td>NaN</td>\n",
       "      <td>NaN</td>\n",
       "    </tr>\n",
       "    <tr>\n",
       "      <th>4</th>\n",
       "      <td>TZ000063894</td>\n",
       "      <td>Comoros</td>\n",
       "      <td>2020-01-26</td>\n",
       "      <td>2020</td>\n",
       "      <td>1</td>\n",
       "      <td>26</td>\n",
       "      <td>0.0</td>\n",
       "      <td>NaN</td>\n",
       "      <td>28.2</td>\n",
       "      <td>31.5</td>\n",
       "      <td>...</td>\n",
       "      <td>NaN</td>\n",
       "      <td>NaN</td>\n",
       "      <td>NaN</td>\n",
       "      <td>NaN</td>\n",
       "      <td>NaN</td>\n",
       "      <td>NaN</td>\n",
       "      <td>NaN</td>\n",
       "      <td>NaN</td>\n",
       "      <td>NaN</td>\n",
       "      <td>NaN</td>\n",
       "    </tr>\n",
       "  </tbody>\n",
       "</table>\n",
       "<p>5 rows × 23 columns</p>\n",
       "</div>"
      ],
      "text/plain": [
       "       STATION Country/Region        DATE  Year  Month  Day  PRCP  SNWD  TAVG  \\\n",
       "0  TZ000063894        Comoros  2020-01-22  2020      1   22  10.9   NaN  27.6   \n",
       "1  TZ000063894        Comoros  2020-01-23  2020      1   23   0.0   NaN  26.7   \n",
       "2  TZ000063894        Comoros  2020-01-24  2020      1   24   9.4   NaN  27.9   \n",
       "3  TZ000063894        Comoros  2020-01-25  2020      1   25   0.3   NaN  27.9   \n",
       "4  TZ000063894        Comoros  2020-01-26  2020      1   26   0.0   NaN  28.2   \n",
       "\n",
       "   TMAX  ...  LONGITUDE  ELEVATION  PRCP_ATTRIBUTES  TAVG_ATTRIBUTES  \\\n",
       "0  30.2  ...        NaN        NaN              NaN              NaN   \n",
       "1   NaN  ...        NaN        NaN              NaN              NaN   \n",
       "2  30.6  ...        NaN        NaN              NaN              NaN   \n",
       "3  30.2  ...        NaN        NaN              NaN              NaN   \n",
       "4  31.5  ...        NaN        NaN              NaN              NaN   \n",
       "\n",
       "   TMAX_ATTRIBUTES TMIN_ATTRIBUTES DAPR MDPR WESD  SNWD_ATTRIBUTES  \n",
       "0              NaN             NaN  NaN  NaN  NaN              NaN  \n",
       "1              NaN             NaN  NaN  NaN  NaN              NaN  \n",
       "2              NaN             NaN  NaN  NaN  NaN              NaN  \n",
       "3              NaN             NaN  NaN  NaN  NaN              NaN  \n",
       "4              NaN             NaN  NaN  NaN  NaN              NaN  \n",
       "\n",
       "[5 rows x 23 columns]"
      ]
     },
     "execution_count": 3,
     "metadata": {},
     "output_type": "execute_result"
    }
   ],
   "source": [
    "weather = pd.read_csv('datasets/the weather of 187 countries in 2020.csv',\n",
    "                      low_memory=False)\n",
    "weather.head()"
   ]
  },
  {
   "cell_type": "code",
   "execution_count": 4,
   "metadata": {
    "execution": {
     "iopub.execute_input": "2023-07-13T14:25:16.886472Z",
     "iopub.status.busy": "2023-07-13T14:25:16.885797Z",
     "iopub.status.idle": "2023-07-13T14:25:18.048751Z",
     "shell.execute_reply": "2023-07-13T14:25:18.047605Z",
     "shell.execute_reply.started": "2023-07-13T14:25:16.886424Z"
    }
   },
   "outputs": [
    {
     "name": "stdout",
     "output_type": "stream",
     "text": [
      "<class 'pandas.core.frame.DataFrame'>\n",
      "RangeIndex: 1048575 entries, 0 to 1048574\n",
      "Data columns (total 23 columns):\n",
      " #   Column           Non-Null Count    Dtype  \n",
      "---  ------           --------------    -----  \n",
      " 0   STATION          1048575 non-null  object \n",
      " 1   Country/Region   1048575 non-null  object \n",
      " 2   DATE             1048575 non-null  object \n",
      " 3   Year             1048575 non-null  int64  \n",
      " 4   Month            1048575 non-null  int64  \n",
      " 5   Day              1048575 non-null  int64  \n",
      " 6   PRCP             738462 non-null   float64\n",
      " 7   SNWD             214352 non-null   float64\n",
      " 8   TAVG             812229 non-null   float64\n",
      " 9   TMAX             666841 non-null   float64\n",
      " 10  TMIN             694366 non-null   float64\n",
      " 11  SNOW             103991 non-null   float64\n",
      " 12  LATITUDE         102307 non-null   float64\n",
      " 13  LONGITUDE        102307 non-null   float64\n",
      " 14  ELEVATION        102307 non-null   float64\n",
      " 15  PRCP_ATTRIBUTES  6007 non-null     object \n",
      " 16  TAVG_ATTRIBUTES  3850 non-null     object \n",
      " 17  TMAX_ATTRIBUTES  5637 non-null     object \n",
      " 18  TMIN_ATTRIBUTES  5874 non-null     object \n",
      " 19  DAPR             1263 non-null     float64\n",
      " 20  MDPR             81 non-null       float64\n",
      " 21  WESD             2 non-null        float64\n",
      " 22  SNWD_ATTRIBUTES  354 non-null      object \n",
      "dtypes: float64(12), int64(3), object(8)\n",
      "memory usage: 184.0+ MB\n"
     ]
    }
   ],
   "source": [
    "weather.info()"
   ]
  },
  {
   "cell_type": "markdown",
   "metadata": {},
   "source": [
    "## 1.xx. Data Manipulation"
   ]
  },
  {
   "cell_type": "code",
   "execution_count": null,
   "metadata": {
    "execution": {
     "iopub.execute_input": "2023-07-13T14:25:21.785891Z",
     "iopub.status.busy": "2023-07-13T14:25:21.785189Z",
     "iopub.status.idle": "2023-07-13T14:25:21.866036Z",
     "shell.execute_reply": "2023-07-13T14:25:21.864900Z",
     "shell.execute_reply.started": "2023-07-13T14:25:21.785855Z"
    }
   },
   "outputs": [],
   "source": [
    "weather[weather['Country/Region'] == 'Comoros']['STATION'].unique()"
   ]
  },
  {
   "cell_type": "code",
   "execution_count": 5,
   "metadata": {
    "execution": {
     "iopub.execute_input": "2023-07-13T14:25:23.620178Z",
     "iopub.status.busy": "2023-07-13T14:25:23.619793Z",
     "iopub.status.idle": "2023-07-13T14:25:23.791316Z",
     "shell.execute_reply": "2023-07-13T14:25:23.790254Z",
     "shell.execute_reply.started": "2023-07-13T14:25:23.620150Z"
    }
   },
   "outputs": [],
   "source": [
    "weather['DATE'] = pd.to_datetime(weather['DATE'], format='%Y-%m-%d')"
   ]
  },
  {
   "cell_type": "code",
   "execution_count": 6,
   "metadata": {
    "execution": {
     "iopub.execute_input": "2023-07-13T14:25:26.991510Z",
     "iopub.status.busy": "2023-07-13T14:25:26.991075Z",
     "iopub.status.idle": "2023-07-13T14:25:27.039521Z",
     "shell.execute_reply": "2023-07-13T14:25:27.038461Z",
     "shell.execute_reply.started": "2023-07-13T14:25:26.991469Z"
    }
   },
   "outputs": [],
   "source": [
    "weather = weather.drop(['PRCP_ATTRIBUTES', 'TAVG_ATTRIBUTES', 'TMAX_ATTRIBUTES',\n",
    "              'TMIN_ATTRIBUTES', 'DAPR', 'MDPR', 'WESD', 'SNWD_ATTRIBUTES'], axis=1)"
   ]
  },
  {
   "cell_type": "code",
   "execution_count": 7,
   "metadata": {
    "execution": {
     "iopub.execute_input": "2023-07-13T14:25:28.943122Z",
     "iopub.status.busy": "2023-07-13T14:25:28.942755Z",
     "iopub.status.idle": "2023-07-13T14:25:29.276162Z",
     "shell.execute_reply": "2023-07-13T14:25:29.274987Z",
     "shell.execute_reply.started": "2023-07-13T14:25:28.943094Z"
    }
   },
   "outputs": [
    {
     "name": "stdout",
     "output_type": "stream",
     "text": [
      "<class 'pandas.core.frame.DataFrame'>\n",
      "RangeIndex: 1048575 entries, 0 to 1048574\n",
      "Data columns (total 15 columns):\n",
      " #   Column          Non-Null Count    Dtype         \n",
      "---  ------          --------------    -----         \n",
      " 0   STATION         1048575 non-null  object        \n",
      " 1   Country/Region  1048575 non-null  object        \n",
      " 2   DATE            1048575 non-null  datetime64[ns]\n",
      " 3   Year            1048575 non-null  int64         \n",
      " 4   Month           1048575 non-null  int64         \n",
      " 5   Day             1048575 non-null  int64         \n",
      " 6   PRCP            738462 non-null   float64       \n",
      " 7   SNWD            214352 non-null   float64       \n",
      " 8   TAVG            812229 non-null   float64       \n",
      " 9   TMAX            666841 non-null   float64       \n",
      " 10  TMIN            694366 non-null   float64       \n",
      " 11  SNOW            103991 non-null   float64       \n",
      " 12  LATITUDE        102307 non-null   float64       \n",
      " 13  LONGITUDE       102307 non-null   float64       \n",
      " 14  ELEVATION       102307 non-null   float64       \n",
      "dtypes: datetime64[ns](1), float64(9), int64(3), object(2)\n",
      "memory usage: 120.0+ MB\n"
     ]
    }
   ],
   "source": [
    "weather.info()"
   ]
  },
  {
   "cell_type": "code",
   "execution_count": 8,
   "metadata": {
    "execution": {
     "iopub.execute_input": "2023-07-13T14:25:31.770805Z",
     "iopub.status.busy": "2023-07-13T14:25:31.770278Z",
     "iopub.status.idle": "2023-07-13T14:25:32.093774Z",
     "shell.execute_reply": "2023-07-13T14:25:32.092647Z",
     "shell.execute_reply.started": "2023-07-13T14:25:31.770746Z"
    }
   },
   "outputs": [
    {
     "data": {
      "text/plain": [
       "STATION                0\n",
       "Country/Region         0\n",
       "DATE                   0\n",
       "Year                   0\n",
       "Month                  0\n",
       "Day                    0\n",
       "PRCP              310113\n",
       "SNWD              834223\n",
       "TAVG              236346\n",
       "TMAX              381734\n",
       "TMIN              354209\n",
       "SNOW              944584\n",
       "LATITUDE          946268\n",
       "LONGITUDE         946268\n",
       "ELEVATION         946268\n",
       "dtype: int64"
      ]
     },
     "execution_count": 8,
     "metadata": {},
     "output_type": "execute_result"
    }
   ],
   "source": [
    "weather.isnull().sum()"
   ]
  },
  {
   "cell_type": "code",
   "execution_count": 9,
   "metadata": {
    "execution": {
     "iopub.execute_input": "2023-07-13T14:25:34.513809Z",
     "iopub.status.busy": "2023-07-13T14:25:34.513402Z",
     "iopub.status.idle": "2023-07-13T14:25:34.590754Z",
     "shell.execute_reply": "2023-07-13T14:25:34.589727Z",
     "shell.execute_reply.started": "2023-07-13T14:25:34.513777Z"
    }
   },
   "outputs": [
    {
     "data": {
      "text/plain": [
       "(5152,)"
      ]
     },
     "execution_count": 9,
     "metadata": {},
     "output_type": "execute_result"
    }
   ],
   "source": [
    "np.shape(weather['STATION'].unique())"
   ]
  },
  {
   "cell_type": "code",
   "execution_count": 10,
   "metadata": {
    "execution": {
     "iopub.execute_input": "2023-07-13T14:25:35.867741Z",
     "iopub.status.busy": "2023-07-13T14:25:35.867335Z",
     "iopub.status.idle": "2023-07-13T14:25:35.935848Z",
     "shell.execute_reply": "2023-07-13T14:25:35.934572Z",
     "shell.execute_reply.started": "2023-07-13T14:25:35.867709Z"
    }
   },
   "outputs": [],
   "source": [
    "weather.drop(['Year'], axis=1, inplace=True)"
   ]
  },
  {
   "cell_type": "markdown",
   "metadata": {},
   "source": [
    "## 1.xxx. Correlation Analysis"
   ]
  },
  {
   "cell_type": "code",
   "execution_count": 12,
   "metadata": {
    "execution": {
     "iopub.execute_input": "2023-07-13T12:21:22.881062Z",
     "iopub.status.busy": "2023-07-13T12:21:22.880602Z",
     "iopub.status.idle": "2023-07-13T12:21:23.202060Z",
     "shell.execute_reply": "2023-07-13T12:21:23.201001Z",
     "shell.execute_reply.started": "2023-07-13T12:21:22.881023Z"
    }
   },
   "outputs": [
    {
     "data": {
      "text/html": [
       "<div>\n",
       "<style scoped>\n",
       "    .dataframe tbody tr th:only-of-type {\n",
       "        vertical-align: middle;\n",
       "    }\n",
       "\n",
       "    .dataframe tbody tr th {\n",
       "        vertical-align: top;\n",
       "    }\n",
       "\n",
       "    .dataframe thead th {\n",
       "        text-align: right;\n",
       "    }\n",
       "</style>\n",
       "<table border=\"1\" class=\"dataframe\">\n",
       "  <thead>\n",
       "    <tr style=\"text-align: right;\">\n",
       "      <th></th>\n",
       "      <th>Month</th>\n",
       "      <th>Day</th>\n",
       "      <th>PRCP</th>\n",
       "      <th>SNWD</th>\n",
       "      <th>TAVG</th>\n",
       "      <th>TMAX</th>\n",
       "      <th>TMIN</th>\n",
       "      <th>SNOW</th>\n",
       "      <th>LATITUDE</th>\n",
       "      <th>LONGITUDE</th>\n",
       "      <th>ELEVATION</th>\n",
       "    </tr>\n",
       "  </thead>\n",
       "  <tbody>\n",
       "    <tr>\n",
       "      <th>Month</th>\n",
       "      <td>1.000000</td>\n",
       "      <td>-0.158134</td>\n",
       "      <td>0.077957</td>\n",
       "      <td>-0.291069</td>\n",
       "      <td>0.425188</td>\n",
       "      <td>0.488729</td>\n",
       "      <td>0.442944</td>\n",
       "      <td>-0.181866</td>\n",
       "      <td>-0.217623</td>\n",
       "      <td>0.483713</td>\n",
       "      <td>0.081236</td>\n",
       "    </tr>\n",
       "    <tr>\n",
       "      <th>Day</th>\n",
       "      <td>-0.158134</td>\n",
       "      <td>1.000000</td>\n",
       "      <td>-0.009618</td>\n",
       "      <td>-0.011764</td>\n",
       "      <td>0.007674</td>\n",
       "      <td>0.011718</td>\n",
       "      <td>0.011850</td>\n",
       "      <td>-0.026557</td>\n",
       "      <td>0.159670</td>\n",
       "      <td>-0.349309</td>\n",
       "      <td>-0.059341</td>\n",
       "    </tr>\n",
       "    <tr>\n",
       "      <th>PRCP</th>\n",
       "      <td>0.077957</td>\n",
       "      <td>-0.009618</td>\n",
       "      <td>1.000000</td>\n",
       "      <td>-0.032212</td>\n",
       "      <td>0.117195</td>\n",
       "      <td>0.077826</td>\n",
       "      <td>0.163642</td>\n",
       "      <td>0.278578</td>\n",
       "      <td>-0.088076</td>\n",
       "      <td>0.003058</td>\n",
       "      <td>-0.066703</td>\n",
       "    </tr>\n",
       "    <tr>\n",
       "      <th>SNWD</th>\n",
       "      <td>-0.291069</td>\n",
       "      <td>-0.011764</td>\n",
       "      <td>-0.032212</td>\n",
       "      <td>1.000000</td>\n",
       "      <td>-0.356621</td>\n",
       "      <td>-0.346927</td>\n",
       "      <td>-0.372310</td>\n",
       "      <td>0.247146</td>\n",
       "      <td>0.326801</td>\n",
       "      <td>-0.409252</td>\n",
       "      <td>-0.195954</td>\n",
       "    </tr>\n",
       "    <tr>\n",
       "      <th>TAVG</th>\n",
       "      <td>0.425188</td>\n",
       "      <td>0.007674</td>\n",
       "      <td>0.117195</td>\n",
       "      <td>-0.356621</td>\n",
       "      <td>1.000000</td>\n",
       "      <td>0.981930</td>\n",
       "      <td>0.976577</td>\n",
       "      <td>-0.213097</td>\n",
       "      <td>-0.548902</td>\n",
       "      <td>0.337894</td>\n",
       "      <td>-0.248169</td>\n",
       "    </tr>\n",
       "    <tr>\n",
       "      <th>TMAX</th>\n",
       "      <td>0.488729</td>\n",
       "      <td>0.011718</td>\n",
       "      <td>0.077826</td>\n",
       "      <td>-0.346927</td>\n",
       "      <td>0.981930</td>\n",
       "      <td>1.000000</td>\n",
       "      <td>0.926774</td>\n",
       "      <td>-0.219229</td>\n",
       "      <td>-0.518515</td>\n",
       "      <td>0.450728</td>\n",
       "      <td>-0.150353</td>\n",
       "    </tr>\n",
       "    <tr>\n",
       "      <th>TMIN</th>\n",
       "      <td>0.442944</td>\n",
       "      <td>0.011850</td>\n",
       "      <td>0.163642</td>\n",
       "      <td>-0.372310</td>\n",
       "      <td>0.976577</td>\n",
       "      <td>0.926774</td>\n",
       "      <td>1.000000</td>\n",
       "      <td>-0.178355</td>\n",
       "      <td>-0.523574</td>\n",
       "      <td>0.314616</td>\n",
       "      <td>-0.278596</td>\n",
       "    </tr>\n",
       "    <tr>\n",
       "      <th>SNOW</th>\n",
       "      <td>-0.181866</td>\n",
       "      <td>-0.026557</td>\n",
       "      <td>0.278578</td>\n",
       "      <td>0.247146</td>\n",
       "      <td>-0.213097</td>\n",
       "      <td>-0.219229</td>\n",
       "      <td>-0.178355</td>\n",
       "      <td>1.000000</td>\n",
       "      <td>0.092462</td>\n",
       "      <td>-0.029143</td>\n",
       "      <td>0.059421</td>\n",
       "    </tr>\n",
       "    <tr>\n",
       "      <th>LATITUDE</th>\n",
       "      <td>-0.217623</td>\n",
       "      <td>0.159670</td>\n",
       "      <td>-0.088076</td>\n",
       "      <td>0.326801</td>\n",
       "      <td>-0.548902</td>\n",
       "      <td>-0.518515</td>\n",
       "      <td>-0.523574</td>\n",
       "      <td>0.092462</td>\n",
       "      <td>1.000000</td>\n",
       "      <td>-0.391579</td>\n",
       "      <td>-0.130990</td>\n",
       "    </tr>\n",
       "    <tr>\n",
       "      <th>LONGITUDE</th>\n",
       "      <td>0.483713</td>\n",
       "      <td>-0.349309</td>\n",
       "      <td>0.003058</td>\n",
       "      <td>-0.409252</td>\n",
       "      <td>0.337894</td>\n",
       "      <td>0.450728</td>\n",
       "      <td>0.314616</td>\n",
       "      <td>-0.029143</td>\n",
       "      <td>-0.391579</td>\n",
       "      <td>1.000000</td>\n",
       "      <td>0.137877</td>\n",
       "    </tr>\n",
       "    <tr>\n",
       "      <th>ELEVATION</th>\n",
       "      <td>0.081236</td>\n",
       "      <td>-0.059341</td>\n",
       "      <td>-0.066703</td>\n",
       "      <td>-0.195954</td>\n",
       "      <td>-0.248169</td>\n",
       "      <td>-0.150353</td>\n",
       "      <td>-0.278596</td>\n",
       "      <td>0.059421</td>\n",
       "      <td>-0.130990</td>\n",
       "      <td>0.137877</td>\n",
       "      <td>1.000000</td>\n",
       "    </tr>\n",
       "  </tbody>\n",
       "</table>\n",
       "</div>"
      ],
      "text/plain": [
       "              Month       Day      PRCP      SNWD      TAVG      TMAX  \\\n",
       "Month      1.000000 -0.158134  0.077957 -0.291069  0.425188  0.488729   \n",
       "Day       -0.158134  1.000000 -0.009618 -0.011764  0.007674  0.011718   \n",
       "PRCP       0.077957 -0.009618  1.000000 -0.032212  0.117195  0.077826   \n",
       "SNWD      -0.291069 -0.011764 -0.032212  1.000000 -0.356621 -0.346927   \n",
       "TAVG       0.425188  0.007674  0.117195 -0.356621  1.000000  0.981930   \n",
       "TMAX       0.488729  0.011718  0.077826 -0.346927  0.981930  1.000000   \n",
       "TMIN       0.442944  0.011850  0.163642 -0.372310  0.976577  0.926774   \n",
       "SNOW      -0.181866 -0.026557  0.278578  0.247146 -0.213097 -0.219229   \n",
       "LATITUDE  -0.217623  0.159670 -0.088076  0.326801 -0.548902 -0.518515   \n",
       "LONGITUDE  0.483713 -0.349309  0.003058 -0.409252  0.337894  0.450728   \n",
       "ELEVATION  0.081236 -0.059341 -0.066703 -0.195954 -0.248169 -0.150353   \n",
       "\n",
       "               TMIN      SNOW  LATITUDE  LONGITUDE  ELEVATION  \n",
       "Month      0.442944 -0.181866 -0.217623   0.483713   0.081236  \n",
       "Day        0.011850 -0.026557  0.159670  -0.349309  -0.059341  \n",
       "PRCP       0.163642  0.278578 -0.088076   0.003058  -0.066703  \n",
       "SNWD      -0.372310  0.247146  0.326801  -0.409252  -0.195954  \n",
       "TAVG       0.976577 -0.213097 -0.548902   0.337894  -0.248169  \n",
       "TMAX       0.926774 -0.219229 -0.518515   0.450728  -0.150353  \n",
       "TMIN       1.000000 -0.178355 -0.523574   0.314616  -0.278596  \n",
       "SNOW      -0.178355  1.000000  0.092462  -0.029143   0.059421  \n",
       "LATITUDE  -0.523574  0.092462  1.000000  -0.391579  -0.130990  \n",
       "LONGITUDE  0.314616 -0.029143 -0.391579   1.000000   0.137877  \n",
       "ELEVATION -0.278596  0.059421 -0.130990   0.137877   1.000000  "
      ]
     },
     "execution_count": 12,
     "metadata": {},
     "output_type": "execute_result"
    }
   ],
   "source": [
    "weather_corr = weather.corr(numeric_only='int')\n",
    "weather_corr"
   ]
  },
  {
   "cell_type": "markdown",
   "metadata": {},
   "source": [
    "## 1.xxxx. Data Visualization"
   ]
  },
  {
   "cell_type": "code",
   "execution_count": 13,
   "metadata": {
    "execution": {
     "iopub.execute_input": "2023-07-13T12:21:23.204154Z",
     "iopub.status.busy": "2023-07-13T12:21:23.203420Z",
     "iopub.status.idle": "2023-07-13T12:21:24.134840Z",
     "shell.execute_reply": "2023-07-13T12:21:24.133638Z",
     "shell.execute_reply.started": "2023-07-13T12:21:23.204113Z"
    }
   },
   "outputs": [
    {
     "data": {
      "image/png": "[encoded data removed]",
      "text/plain": [
       "<Figure size 1000x1200 with 2 Axes>"
      ]
     },
     "metadata": {},
     "output_type": "display_data"
    }
   ],
   "source": [
    "plt.figure(figsize=(10, 12))\n",
    "sns.heatmap(weather_corr, annot=True, cmap='Oranges');\n",
    "plt.tight_layout()"
   ]
  },
  {
   "cell_type": "code",
   "execution_count": 56,
   "metadata": {
    "execution": {
     "iopub.execute_input": "2023-07-13T14:25:52.483924Z",
     "iopub.status.busy": "2023-07-13T14:25:52.483101Z",
     "iopub.status.idle": "2023-07-13T14:25:52.502336Z",
     "shell.execute_reply": "2023-07-13T14:25:52.501530Z",
     "shell.execute_reply.started": "2023-07-13T14:25:52.483880Z"
    }
   },
   "outputs": [
    {
     "data": {
      "text/html": [
       "<div>\n",
       "<style scoped>\n",
       "    .dataframe tbody tr th:only-of-type {\n",
       "        vertical-align: middle;\n",
       "    }\n",
       "\n",
       "    .dataframe tbody tr th {\n",
       "        vertical-align: top;\n",
       "    }\n",
       "\n",
       "    .dataframe thead th {\n",
       "        text-align: right;\n",
       "    }\n",
       "</style>\n",
       "<table border=\"1\" class=\"dataframe\">\n",
       "  <thead>\n",
       "    <tr style=\"text-align: right;\">\n",
       "      <th></th>\n",
       "      <th>STATION</th>\n",
       "      <th>Country/Region</th>\n",
       "      <th>DATE</th>\n",
       "      <th>Month</th>\n",
       "      <th>Day</th>\n",
       "      <th>PRCP</th>\n",
       "      <th>SNWD</th>\n",
       "      <th>TAVG</th>\n",
       "      <th>TMAX</th>\n",
       "      <th>TMIN</th>\n",
       "      <th>SNOW</th>\n",
       "      <th>LATITUDE</th>\n",
       "      <th>LONGITUDE</th>\n",
       "      <th>ELEVATION</th>\n",
       "    </tr>\n",
       "  </thead>\n",
       "  <tbody>\n",
       "    <tr>\n",
       "      <th>0</th>\n",
       "      <td>TZ000063894</td>\n",
       "      <td>Comoros</td>\n",
       "      <td>2020-01-22</td>\n",
       "      <td>1</td>\n",
       "      <td>22</td>\n",
       "      <td>10.9</td>\n",
       "      <td>NaN</td>\n",
       "      <td>27.6</td>\n",
       "      <td>30.2</td>\n",
       "      <td>24.9</td>\n",
       "      <td>NaN</td>\n",
       "      <td>NaN</td>\n",
       "      <td>NaN</td>\n",
       "      <td>NaN</td>\n",
       "    </tr>\n",
       "    <tr>\n",
       "      <th>1</th>\n",
       "      <td>TZ000063894</td>\n",
       "      <td>Comoros</td>\n",
       "      <td>2020-01-23</td>\n",
       "      <td>1</td>\n",
       "      <td>23</td>\n",
       "      <td>0.0</td>\n",
       "      <td>NaN</td>\n",
       "      <td>26.7</td>\n",
       "      <td>NaN</td>\n",
       "      <td>NaN</td>\n",
       "      <td>NaN</td>\n",
       "      <td>NaN</td>\n",
       "      <td>NaN</td>\n",
       "      <td>NaN</td>\n",
       "    </tr>\n",
       "    <tr>\n",
       "      <th>2</th>\n",
       "      <td>TZ000063894</td>\n",
       "      <td>Comoros</td>\n",
       "      <td>2020-01-24</td>\n",
       "      <td>1</td>\n",
       "      <td>24</td>\n",
       "      <td>9.4</td>\n",
       "      <td>NaN</td>\n",
       "      <td>27.9</td>\n",
       "      <td>30.6</td>\n",
       "      <td>25.6</td>\n",
       "      <td>NaN</td>\n",
       "      <td>NaN</td>\n",
       "      <td>NaN</td>\n",
       "      <td>NaN</td>\n",
       "    </tr>\n",
       "    <tr>\n",
       "      <th>3</th>\n",
       "      <td>TZ000063894</td>\n",
       "      <td>Comoros</td>\n",
       "      <td>2020-01-25</td>\n",
       "      <td>1</td>\n",
       "      <td>25</td>\n",
       "      <td>0.3</td>\n",
       "      <td>NaN</td>\n",
       "      <td>27.9</td>\n",
       "      <td>30.2</td>\n",
       "      <td>16.3</td>\n",
       "      <td>NaN</td>\n",
       "      <td>NaN</td>\n",
       "      <td>NaN</td>\n",
       "      <td>NaN</td>\n",
       "    </tr>\n",
       "    <tr>\n",
       "      <th>4</th>\n",
       "      <td>TZ000063894</td>\n",
       "      <td>Comoros</td>\n",
       "      <td>2020-01-26</td>\n",
       "      <td>1</td>\n",
       "      <td>26</td>\n",
       "      <td>0.0</td>\n",
       "      <td>NaN</td>\n",
       "      <td>28.2</td>\n",
       "      <td>31.5</td>\n",
       "      <td>NaN</td>\n",
       "      <td>NaN</td>\n",
       "      <td>NaN</td>\n",
       "      <td>NaN</td>\n",
       "      <td>NaN</td>\n",
       "    </tr>\n",
       "  </tbody>\n",
       "</table>\n",
       "</div>"
      ],
      "text/plain": [
       "       STATION Country/Region       DATE  Month  Day  PRCP  SNWD  TAVG  TMAX  \\\n",
       "0  TZ000063894        Comoros 2020-01-22      1   22  10.9   NaN  27.6  30.2   \n",
       "1  TZ000063894        Comoros 2020-01-23      1   23   0.0   NaN  26.7   NaN   \n",
       "2  TZ000063894        Comoros 2020-01-24      1   24   9.4   NaN  27.9  30.6   \n",
       "3  TZ000063894        Comoros 2020-01-25      1   25   0.3   NaN  27.9  30.2   \n",
       "4  TZ000063894        Comoros 2020-01-26      1   26   0.0   NaN  28.2  31.5   \n",
       "\n",
       "   TMIN  SNOW  LATITUDE  LONGITUDE  ELEVATION  \n",
       "0  24.9   NaN       NaN        NaN        NaN  \n",
       "1   NaN   NaN       NaN        NaN        NaN  \n",
       "2  25.6   NaN       NaN        NaN        NaN  \n",
       "3  16.3   NaN       NaN        NaN        NaN  \n",
       "4   NaN   NaN       NaN        NaN        NaN  "
      ]
     },
     "execution_count": 56,
     "metadata": {},
     "output_type": "execute_result"
    }
   ],
   "source": [
    "weather.head()"
   ]
  },
  {
   "cell_type": "code",
   "execution_count": 11,
   "metadata": {
    "execution": {
     "iopub.execute_input": "2023-07-13T16:05:20.747157Z",
     "iopub.status.busy": "2023-07-13T16:05:20.746770Z",
     "iopub.status.idle": "2023-07-13T16:05:21.418072Z",
     "shell.execute_reply": "2023-07-13T16:05:21.417121Z",
     "shell.execute_reply.started": "2023-07-13T16:05:20.747128Z"
    }
   },
   "outputs": [
    {
     "data": {
      "text/html": [
       "<iframe\n",
       "    scrolling=\"no\"\n",
       "    width=\"100%\"\n",
       "    height=\"545px\"\n",
       "    src=\"iframe_figures/figure_11.html\"\n",
       "    frameborder=\"0\"\n",
       "    allowfullscreen\n",
       "></iframe>\n"
      ]
     },
     "metadata": {},
     "output_type": "display_data"
    }
   ],
   "source": [
    "weather_copy = weather.copy()\n",
    "weather_copy.set_index('DATE', inplace=True)\n",
    "weather_seasonal = weather_copy.resample('M').mean(numeric_only=True)[['TAVG', 'TMAX', 'TMIN']]\n",
    "weather_seasonal_df = pd.DataFrame(weather_seasonal)\n",
    "px.histogram(weather_seasonal_df, x=weather_seasonal_df.index, y='TAVG',\n",
    "             color='TAVG', nbins=7, title='The sum of TAVG Monthly')"
   ]
  },
  {
   "cell_type": "code",
   "execution_count": 12,
   "metadata": {
    "execution": {
     "iopub.execute_input": "2023-07-13T16:05:52.732347Z",
     "iopub.status.busy": "2023-07-13T16:05:52.731956Z",
     "iopub.status.idle": "2023-07-13T16:05:52.846306Z",
     "shell.execute_reply": "2023-07-13T16:05:52.845120Z",
     "shell.execute_reply.started": "2023-07-13T16:05:52.732319Z"
    }
   },
   "outputs": [
    {
     "data": {
      "text/html": [
       "<iframe\n",
       "    scrolling=\"no\"\n",
       "    width=\"100%\"\n",
       "    height=\"545px\"\n",
       "    src=\"iframe_figures/figure_12.html\"\n",
       "    frameborder=\"0\"\n",
       "    allowfullscreen\n",
       "></iframe>\n"
      ]
     },
     "metadata": {},
     "output_type": "display_data"
    }
   ],
   "source": [
    "px.histogram(weather_seasonal_df, x=weather_seasonal_df.index, y='TMAX',\n",
    "             color='TMAX', nbins=7, title='The sum of TMAX Monthly')"
   ]
  },
  {
   "cell_type": "code",
   "execution_count": 13,
   "metadata": {
    "execution": {
     "iopub.execute_input": "2023-07-13T16:06:03.101140Z",
     "iopub.status.busy": "2023-07-13T16:06:03.100709Z",
     "iopub.status.idle": "2023-07-13T16:06:03.214426Z",
     "shell.execute_reply": "2023-07-13T16:06:03.213284Z",
     "shell.execute_reply.started": "2023-07-13T16:06:03.101108Z"
    }
   },
   "outputs": [
    {
     "data": {
      "text/html": [
       "<iframe\n",
       "    scrolling=\"no\"\n",
       "    width=\"100%\"\n",
       "    height=\"545px\"\n",
       "    src=\"iframe_figures/figure_13.html\"\n",
       "    frameborder=\"0\"\n",
       "    allowfullscreen\n",
       "></iframe>\n"
      ]
     },
     "metadata": {},
     "output_type": "display_data"
    }
   ],
   "source": [
    "px.histogram(weather_seasonal_df, x=weather_seasonal_df.index, y='TMIN',\n",
    "             color='TMIN', nbins=7, title='The sum of TMIN Monthly')"
   ]
  },
  {
   "cell_type": "code",
   "execution_count": 14,
   "metadata": {
    "execution": {
     "iopub.execute_input": "2023-07-13T16:06:12.849284Z",
     "iopub.status.busy": "2023-07-13T16:06:12.848876Z",
     "iopub.status.idle": "2023-07-13T16:06:12.894404Z",
     "shell.execute_reply": "2023-07-13T16:06:12.893262Z",
     "shell.execute_reply.started": "2023-07-13T16:06:12.849253Z"
    }
   },
   "outputs": [
    {
     "data": {
      "text/html": [
       "<iframe\n",
       "    scrolling=\"no\"\n",
       "    width=\"100%\"\n",
       "    height=\"545px\"\n",
       "    src=\"iframe_figures/figure_14.html\"\n",
       "    frameborder=\"0\"\n",
       "    allowfullscreen\n",
       "></iframe>\n"
      ]
     },
     "metadata": {},
     "output_type": "display_data"
    }
   ],
   "source": [
    "min_trace = go.Bar(\n",
    "    x= weather_seasonal_df.index,\n",
    "    y= weather_seasonal_df['TMIN'],\n",
    "    name='TMIN')\n",
    "\n",
    "avg_trace = go.Bar(\n",
    "    x= weather_seasonal_df.index,\n",
    "    y= weather_seasonal_df['TAVG'],\n",
    "    name='TAVG')\n",
    "\n",
    "max_trace = go.Bar(\n",
    "    x= weather_seasonal_df.index,\n",
    "    y= weather_seasonal_df['TMAX'],\n",
    "    name='TMAX')\n",
    "\n",
    "layout = go.Layout(title='The sum of Temperatures Monthly',\n",
    "                   barmode='stack')\n",
    "\n",
    "fig = go.Figure(data=[min_trace, avg_trace, max_trace], layout=layout)\n",
    "fig.show()"
   ]
  },
  {
   "cell_type": "markdown",
   "metadata": {},
   "source": [
    "# 2. Data Preprocessing"
   ]
  },
  {
   "cell_type": "markdown",
   "metadata": {},
   "source": [
    "## 2.x. Data Manipulation"
   ]
  },
  {
   "cell_type": "code",
   "execution_count": 15,
   "metadata": {
    "execution": {
     "iopub.execute_input": "2023-07-13T12:21:24.146526Z",
     "iopub.status.busy": "2023-07-13T12:21:24.145886Z",
     "iopub.status.idle": "2023-07-13T12:21:24.209949Z",
     "shell.execute_reply": "2023-07-13T12:21:24.208896Z",
     "shell.execute_reply.started": "2023-07-13T12:21:24.146497Z"
    }
   },
   "outputs": [],
   "source": [
    "weather = weather.drop(['STATION', 'DATE'], axis=1)"
   ]
  },
  {
   "cell_type": "code",
   "execution_count": 16,
   "metadata": {
    "execution": {
     "iopub.execute_input": "2023-07-13T12:21:24.211800Z",
     "iopub.status.busy": "2023-07-13T12:21:24.211422Z",
     "iopub.status.idle": "2023-07-13T12:21:24.220027Z",
     "shell.execute_reply": "2023-07-13T12:21:24.219037Z",
     "shell.execute_reply.started": "2023-07-13T12:21:24.211768Z"
    }
   },
   "outputs": [
    {
     "data": {
      "text/plain": [
       "Country/Region     object\n",
       "Month               int64\n",
       "Day                 int64\n",
       "PRCP              float64\n",
       "SNWD              float64\n",
       "TAVG              float64\n",
       "TMAX              float64\n",
       "TMIN              float64\n",
       "SNOW              float64\n",
       "LATITUDE          float64\n",
       "LONGITUDE         float64\n",
       "ELEVATION         float64\n",
       "dtype: object"
      ]
     },
     "execution_count": 16,
     "metadata": {},
     "output_type": "execute_result"
    }
   ],
   "source": [
    "weather.dtypes"
   ]
  },
  {
   "cell_type": "markdown",
   "metadata": {},
   "source": [
    "## 2.xx. Data Transformation"
   ]
  },
  {
   "cell_type": "code",
   "execution_count": 17,
   "metadata": {
    "execution": {
     "iopub.execute_input": "2023-07-13T12:21:24.222351Z",
     "iopub.status.busy": "2023-07-13T12:21:24.221819Z",
     "iopub.status.idle": "2023-07-13T12:21:24.463598Z",
     "shell.execute_reply": "2023-07-13T12:21:24.462566Z",
     "shell.execute_reply.started": "2023-07-13T12:21:24.222309Z"
    }
   },
   "outputs": [],
   "source": [
    "le = LabelEncoder()\n",
    "weather['Country/Region'] = le.fit_transform(weather['Country/Region'])"
   ]
  },
  {
   "cell_type": "code",
   "execution_count": 18,
   "metadata": {
    "execution": {
     "iopub.execute_input": "2023-07-13T12:21:24.465086Z",
     "iopub.status.busy": "2023-07-13T12:21:24.464778Z",
     "iopub.status.idle": "2023-07-13T12:21:24.798845Z",
     "shell.execute_reply": "2023-07-13T12:21:24.798045Z",
     "shell.execute_reply.started": "2023-07-13T12:21:24.465059Z"
    }
   },
   "outputs": [],
   "source": [
    "weather = weather.fillna(weather.mean())"
   ]
  },
  {
   "cell_type": "code",
   "execution_count": 19,
   "metadata": {
    "execution": {
     "iopub.execute_input": "2023-07-13T12:21:24.801137Z",
     "iopub.status.busy": "2023-07-13T12:21:24.800412Z",
     "iopub.status.idle": "2023-07-13T12:21:24.829461Z",
     "shell.execute_reply": "2023-07-13T12:21:24.828338Z",
     "shell.execute_reply.started": "2023-07-13T12:21:24.801106Z"
    }
   },
   "outputs": [
    {
     "data": {
      "text/plain": [
       "Country/Region    0\n",
       "Month             0\n",
       "Day               0\n",
       "PRCP              0\n",
       "SNWD              0\n",
       "TAVG              0\n",
       "TMAX              0\n",
       "TMIN              0\n",
       "SNOW              0\n",
       "LATITUDE          0\n",
       "LONGITUDE         0\n",
       "ELEVATION         0\n",
       "dtype: int64"
      ]
     },
     "execution_count": 19,
     "metadata": {},
     "output_type": "execute_result"
    }
   ],
   "source": [
    "weather.isnull().sum()"
   ]
  },
  {
   "cell_type": "code",
   "execution_count": 20,
   "metadata": {
    "execution": {
     "iopub.execute_input": "2023-07-13T12:21:24.831493Z",
     "iopub.status.busy": "2023-07-13T12:21:24.831096Z",
     "iopub.status.idle": "2023-07-13T12:21:24.881094Z",
     "shell.execute_reply": "2023-07-13T12:21:24.880028Z",
     "shell.execute_reply.started": "2023-07-13T12:21:24.831438Z"
    }
   },
   "outputs": [],
   "source": [
    "y = weather['TMAX'].values\n",
    "weather.drop('TMAX', axis=1, inplace=True)"
   ]
  },
  {
   "cell_type": "code",
   "execution_count": 21,
   "metadata": {
    "execution": {
     "iopub.execute_input": "2023-07-13T12:21:24.882631Z",
     "iopub.status.busy": "2023-07-13T12:21:24.882296Z",
     "iopub.status.idle": "2023-07-13T12:21:24.890624Z",
     "shell.execute_reply": "2023-07-13T12:21:24.889503Z",
     "shell.execute_reply.started": "2023-07-13T12:21:24.882603Z"
    }
   },
   "outputs": [
    {
     "data": {
      "text/plain": [
       "0"
      ]
     },
     "execution_count": 21,
     "metadata": {},
     "output_type": "execute_result"
    }
   ],
   "source": [
    "np.isnan(y).sum()"
   ]
  },
  {
   "cell_type": "code",
   "execution_count": 22,
   "metadata": {
    "execution": {
     "iopub.execute_input": "2023-07-13T12:21:24.893063Z",
     "iopub.status.busy": "2023-07-13T12:21:24.892556Z",
     "iopub.status.idle": "2023-07-13T12:21:27.532552Z",
     "shell.execute_reply": "2023-07-13T12:21:27.531365Z",
     "shell.execute_reply.started": "2023-07-13T12:21:24.893023Z"
    }
   },
   "outputs": [],
   "source": [
    "ct = ColumnTransformer(transformers=[('Country', OneHotEncoder(), [0])], remainder='passthrough')\n",
    "X = ct.fit_transform(weather).todense()"
   ]
  },
  {
   "cell_type": "code",
   "execution_count": 23,
   "metadata": {
    "execution": {
     "iopub.execute_input": "2023-07-13T12:21:27.534267Z",
     "iopub.status.busy": "2023-07-13T12:21:27.533853Z",
     "iopub.status.idle": "2023-07-13T12:21:29.155119Z",
     "shell.execute_reply": "2023-07-13T12:21:29.153869Z",
     "shell.execute_reply.started": "2023-07-13T12:21:27.534227Z"
    }
   },
   "outputs": [],
   "source": [
    "mms = MinMaxScaler(feature_range=(0, 1))\n",
    "X = mms.fit_transform(np.asarray(X))"
   ]
  },
  {
   "cell_type": "markdown",
   "metadata": {},
   "source": [
    "# 3. Data Modeling"
   ]
  },
  {
   "cell_type": "code",
   "execution_count": 24,
   "metadata": {
    "execution": {
     "iopub.execute_input": "2023-07-13T12:21:29.157666Z",
     "iopub.status.busy": "2023-07-13T12:21:29.157304Z",
     "iopub.status.idle": "2023-07-13T12:21:30.977261Z",
     "shell.execute_reply": "2023-07-13T12:21:30.976115Z",
     "shell.execute_reply.started": "2023-07-13T12:21:29.157637Z"
    }
   },
   "outputs": [
    {
     "data": {
      "text/plain": [
       "<1048575x165 sparse matrix of type '<class 'numpy.float64'>'\n",
       "\twith 10793555 stored elements in Compressed Sparse Row format>"
      ]
     },
     "execution_count": 24,
     "metadata": {},
     "output_type": "execute_result"
    }
   ],
   "source": [
    "X = csr_matrix(np.asarray(X))\n",
    "X"
   ]
  },
  {
   "cell_type": "code",
   "execution_count": 25,
   "metadata": {
    "execution": {
     "iopub.execute_input": "2023-07-13T12:21:30.979411Z",
     "iopub.status.busy": "2023-07-13T12:21:30.978957Z",
     "iopub.status.idle": "2023-07-13T12:21:31.198264Z",
     "shell.execute_reply": "2023-07-13T12:21:31.197159Z",
     "shell.execute_reply.started": "2023-07-13T12:21:30.979368Z"
    }
   },
   "outputs": [],
   "source": [
    "X_train, X_test, y_train, y_test = train_test_split(X, y, random_state=0)"
   ]
  },
  {
   "cell_type": "code",
   "execution_count": 26,
   "metadata": {
    "execution": {
     "iopub.execute_input": "2023-07-13T12:21:31.200496Z",
     "iopub.status.busy": "2023-07-13T12:21:31.200117Z",
     "iopub.status.idle": "2023-07-13T12:53:04.607009Z",
     "shell.execute_reply": "2023-07-13T12:53:04.605594Z",
     "shell.execute_reply.started": "2023-07-13T12:21:31.200441Z"
    },
    "scrolled": true
   },
   "outputs": [
    {
     "data": {
      "text/html": [
       "<style>#sk-container-id-1 {color: black;background-color: white;}#sk-container-id-1 pre{padding: 0;}#sk-container-id-1 div.sk-toggleable {background-color: white;}#sk-container-id-1 label.sk-toggleable__label {cursor: pointer;display: block;width: 100%;margin-bottom: 0;padding: 0.3em;box-sizing: border-box;text-align: center;}#sk-container-id-1 label.sk-toggleable__label-arrow:before {content: \"▸\";float: left;margin-right: 0.25em;color: #696969;}#sk-container-id-1 label.sk-toggleable__label-arrow:hover:before {color: black;}#sk-container-id-1 div.sk-estimator:hover label.sk-toggleable__label-arrow:before {color: black;}#sk-container-id-1 div.sk-toggleable__content {max-height: 0;max-width: 0;overflow: hidden;text-align: left;background-color: #f0f8ff;}#sk-container-id-1 div.sk-toggleable__content pre {margin: 0.2em;color: black;border-radius: 0.25em;background-color: #f0f8ff;}#sk-container-id-1 input.sk-toggleable__control:checked~div.sk-toggleable__content {max-height: 200px;max-width: 100%;overflow: auto;}#sk-container-id-1 input.sk-toggleable__control:checked~label.sk-toggleable__label-arrow:before {content: \"▾\";}#sk-container-id-1 div.sk-estimator input.sk-toggleable__control:checked~label.sk-toggleable__label {background-color: #d4ebff;}#sk-container-id-1 div.sk-label input.sk-toggleable__control:checked~label.sk-toggleable__label {background-color: #d4ebff;}#sk-container-id-1 input.sk-hidden--visually {border: 0;clip: rect(1px 1px 1px 1px);clip: rect(1px, 1px, 1px, 1px);height: 1px;margin: -1px;overflow: hidden;padding: 0;position: absolute;width: 1px;}#sk-container-id-1 div.sk-estimator {font-family: monospace;background-color: #f0f8ff;border: 1px dotted black;border-radius: 0.25em;box-sizing: border-box;margin-bottom: 0.5em;}#sk-container-id-1 div.sk-estimator:hover {background-color: #d4ebff;}#sk-container-id-1 div.sk-parallel-item::after {content: \"\";width: 100%;border-bottom: 1px solid gray;flex-grow: 1;}#sk-container-id-1 div.sk-label:hover label.sk-toggleable__label {background-color: #d4ebff;}#sk-container-id-1 div.sk-serial::before {content: \"\";position: absolute;border-left: 1px solid gray;box-sizing: border-box;top: 0;bottom: 0;left: 50%;z-index: 0;}#sk-container-id-1 div.sk-serial {display: flex;flex-direction: column;align-items: center;background-color: white;padding-right: 0.2em;padding-left: 0.2em;position: relative;}#sk-container-id-1 div.sk-item {position: relative;z-index: 1;}#sk-container-id-1 div.sk-parallel {display: flex;align-items: stretch;justify-content: center;background-color: white;position: relative;}#sk-container-id-1 div.sk-item::before, #sk-container-id-1 div.sk-parallel-item::before {content: \"\";position: absolute;border-left: 1px solid gray;box-sizing: border-box;top: 0;bottom: 0;left: 50%;z-index: -1;}#sk-container-id-1 div.sk-parallel-item {display: flex;flex-direction: column;z-index: 1;position: relative;background-color: white;}#sk-container-id-1 div.sk-parallel-item:first-child::after {align-self: flex-end;width: 50%;}#sk-container-id-1 div.sk-parallel-item:last-child::after {align-self: flex-start;width: 50%;}#sk-container-id-1 div.sk-parallel-item:only-child::after {width: 0;}#sk-container-id-1 div.sk-dashed-wrapped {border: 1px dashed gray;margin: 0 0.4em 0.5em 0.4em;box-sizing: border-box;padding-bottom: 0.4em;background-color: white;}#sk-container-id-1 div.sk-label label {font-family: monospace;font-weight: bold;display: inline-block;line-height: 1.2em;}#sk-container-id-1 div.sk-label-container {text-align: center;}#sk-container-id-1 div.sk-container {/* jupyter's `normalize.less` sets `[hidden] { display: none; }` but bootstrap.min.css set `[hidden] { display: none !important; }` so we also need the `!important` here to be able to override the default hidden behavior on the sphinx rendered scikit-learn.org. See: https://github.com/scikit-learn/scikit-learn/issues/21755 */display: inline-block !important;position: relative;}#sk-container-id-1 div.sk-text-repr-fallback {display: none;}</style><div id=\"sk-container-id-1\" class=\"sk-top-container\"><div class=\"sk-text-repr-fallback\"><pre>GradientBoostingRegressor(max_features=0.8, n_estimators=1000, random_state=0,\n",
       "                          subsample=1)</pre><b>In a Jupyter environment, please rerun this cell to show the HTML representation or trust the notebook. <br />On GitHub, the HTML representation is unable to render, please try loading this page with nbviewer.org.</b></div><div class=\"sk-container\" hidden><div class=\"sk-item\"><div class=\"sk-estimator sk-toggleable\"><input class=\"sk-toggleable__control sk-hidden--visually\" id=\"sk-estimator-id-1\" type=\"checkbox\" checked><label for=\"sk-estimator-id-1\" class=\"sk-toggleable__label sk-toggleable__label-arrow\">GradientBoostingRegressor</label><div class=\"sk-toggleable__content\"><pre>GradientBoostingRegressor(max_features=0.8, n_estimators=1000, random_state=0,\n",
       "                          subsample=1)</pre></div></div></div></div></div>"
      ],
      "text/plain": [
       "GradientBoostingRegressor(max_features=0.8, n_estimators=1000, random_state=0,\n",
       "                          subsample=1)"
      ]
     },
     "execution_count": 26,
     "metadata": {},
     "output_type": "execute_result"
    }
   ],
   "source": [
    "gboost_reg = GradientBoostingRegressor(random_state=0, n_estimators=1000, max_depth=3, max_features=.8,\n",
    "                                       subsample=1, criterion='friedman_mse', loss='squared_error',\n",
    "                                       learning_rate=0.1, verbose=0)\n",
    "gboost_reg.fit(X_train, y_train)"
   ]
  },
  {
   "cell_type": "code",
   "execution_count": null,
   "metadata": {},
   "outputs": [],
   "source": []
  },
  {
   "cell_type": "code",
   "execution_count": 27,
   "metadata": {
    "execution": {
     "iopub.execute_input": "2023-07-13T12:53:04.610598Z",
     "iopub.status.busy": "2023-07-13T12:53:04.609389Z",
     "iopub.status.idle": "2023-07-13T12:53:04.876376Z",
     "shell.execute_reply": "2023-07-13T12:53:04.875501Z",
     "shell.execute_reply.started": "2023-07-13T12:53:04.610564Z"
    }
   },
   "outputs": [],
   "source": [
    "data_matrix = xgb.DMatrix(data=X, label=y)"
   ]
  },
  {
   "cell_type": "code",
   "execution_count": 28,
   "metadata": {
    "execution": {
     "iopub.execute_input": "2023-07-13T12:53:04.878596Z",
     "iopub.status.busy": "2023-07-13T12:53:04.877930Z",
     "iopub.status.idle": "2023-07-13T13:38:24.130413Z",
     "shell.execute_reply": "2023-07-13T13:38:24.128802Z",
     "shell.execute_reply.started": "2023-07-13T12:53:04.878557Z"
    },
    "scrolled": true
   },
   "outputs": [
    {
     "data": {
      "text/html": [
       "<style>#sk-container-id-2 {color: black;background-color: white;}#sk-container-id-2 pre{padding: 0;}#sk-container-id-2 div.sk-toggleable {background-color: white;}#sk-container-id-2 label.sk-toggleable__label {cursor: pointer;display: block;width: 100%;margin-bottom: 0;padding: 0.3em;box-sizing: border-box;text-align: center;}#sk-container-id-2 label.sk-toggleable__label-arrow:before {content: \"▸\";float: left;margin-right: 0.25em;color: #696969;}#sk-container-id-2 label.sk-toggleable__label-arrow:hover:before {color: black;}#sk-container-id-2 div.sk-estimator:hover label.sk-toggleable__label-arrow:before {color: black;}#sk-container-id-2 div.sk-toggleable__content {max-height: 0;max-width: 0;overflow: hidden;text-align: left;background-color: #f0f8ff;}#sk-container-id-2 div.sk-toggleable__content pre {margin: 0.2em;color: black;border-radius: 0.25em;background-color: #f0f8ff;}#sk-container-id-2 input.sk-toggleable__control:checked~div.sk-toggleable__content {max-height: 200px;max-width: 100%;overflow: auto;}#sk-container-id-2 input.sk-toggleable__control:checked~label.sk-toggleable__label-arrow:before {content: \"▾\";}#sk-container-id-2 div.sk-estimator input.sk-toggleable__control:checked~label.sk-toggleable__label {background-color: #d4ebff;}#sk-container-id-2 div.sk-label input.sk-toggleable__control:checked~label.sk-toggleable__label {background-color: #d4ebff;}#sk-container-id-2 input.sk-hidden--visually {border: 0;clip: rect(1px 1px 1px 1px);clip: rect(1px, 1px, 1px, 1px);height: 1px;margin: -1px;overflow: hidden;padding: 0;position: absolute;width: 1px;}#sk-container-id-2 div.sk-estimator {font-family: monospace;background-color: #f0f8ff;border: 1px dotted black;border-radius: 0.25em;box-sizing: border-box;margin-bottom: 0.5em;}#sk-container-id-2 div.sk-estimator:hover {background-color: #d4ebff;}#sk-container-id-2 div.sk-parallel-item::after {content: \"\";width: 100%;border-bottom: 1px solid gray;flex-grow: 1;}#sk-container-id-2 div.sk-label:hover label.sk-toggleable__label {background-color: #d4ebff;}#sk-container-id-2 div.sk-serial::before {content: \"\";position: absolute;border-left: 1px solid gray;box-sizing: border-box;top: 0;bottom: 0;left: 50%;z-index: 0;}#sk-container-id-2 div.sk-serial {display: flex;flex-direction: column;align-items: center;background-color: white;padding-right: 0.2em;padding-left: 0.2em;position: relative;}#sk-container-id-2 div.sk-item {position: relative;z-index: 1;}#sk-container-id-2 div.sk-parallel {display: flex;align-items: stretch;justify-content: center;background-color: white;position: relative;}#sk-container-id-2 div.sk-item::before, #sk-container-id-2 div.sk-parallel-item::before {content: \"\";position: absolute;border-left: 1px solid gray;box-sizing: border-box;top: 0;bottom: 0;left: 50%;z-index: -1;}#sk-container-id-2 div.sk-parallel-item {display: flex;flex-direction: column;z-index: 1;position: relative;background-color: white;}#sk-container-id-2 div.sk-parallel-item:first-child::after {align-self: flex-end;width: 50%;}#sk-container-id-2 div.sk-parallel-item:last-child::after {align-self: flex-start;width: 50%;}#sk-container-id-2 div.sk-parallel-item:only-child::after {width: 0;}#sk-container-id-2 div.sk-dashed-wrapped {border: 1px dashed gray;margin: 0 0.4em 0.5em 0.4em;box-sizing: border-box;padding-bottom: 0.4em;background-color: white;}#sk-container-id-2 div.sk-label label {font-family: monospace;font-weight: bold;display: inline-block;line-height: 1.2em;}#sk-container-id-2 div.sk-label-container {text-align: center;}#sk-container-id-2 div.sk-container {/* jupyter's `normalize.less` sets `[hidden] { display: none; }` but bootstrap.min.css set `[hidden] { display: none !important; }` so we also need the `!important` here to be able to override the default hidden behavior on the sphinx rendered scikit-learn.org. See: https://github.com/scikit-learn/scikit-learn/issues/21755 */display: inline-block !important;position: relative;}#sk-container-id-2 div.sk-text-repr-fallback {display: none;}</style><div id=\"sk-container-id-2\" class=\"sk-top-container\"><div class=\"sk-text-repr-fallback\"><pre>XGBRegressor(base_score=None, booster=None, callbacks=None,\n",
       "             colsample_bylevel=None, colsample_bynode=None,\n",
       "             colsample_bytree=0.8, early_stopping_rounds=None,\n",
       "             enable_categorical=False, eval_metric=&#x27;mae&#x27;, feature_types=None,\n",
       "             gamma=None, gpu_id=None, grow_policy=None, importance_type=None,\n",
       "             interaction_constraints=None, learning_rate=0.1, max_bin=None,\n",
       "             max_cat_threshold=None, max_cat_to_onehot=None,\n",
       "             max_delta_step=None, max_depth=3, max_leaves=None,\n",
       "             min_child_weight=None, missing=nan, monotone_constraints=None,\n",
       "             n_estimators=10000, n_jobs=-1, num_parallel_tree=None,\n",
       "             predictor=None, random_state=0, ...)</pre><b>In a Jupyter environment, please rerun this cell to show the HTML representation or trust the notebook. <br />On GitHub, the HTML representation is unable to render, please try loading this page with nbviewer.org.</b></div><div class=\"sk-container\" hidden><div class=\"sk-item\"><div class=\"sk-estimator sk-toggleable\"><input class=\"sk-toggleable__control sk-hidden--visually\" id=\"sk-estimator-id-2\" type=\"checkbox\" checked><label for=\"sk-estimator-id-2\" class=\"sk-toggleable__label sk-toggleable__label-arrow\">XGBRegressor</label><div class=\"sk-toggleable__content\"><pre>XGBRegressor(base_score=None, booster=None, callbacks=None,\n",
       "             colsample_bylevel=None, colsample_bynode=None,\n",
       "             colsample_bytree=0.8, early_stopping_rounds=None,\n",
       "             enable_categorical=False, eval_metric=&#x27;mae&#x27;, feature_types=None,\n",
       "             gamma=None, gpu_id=None, grow_policy=None, importance_type=None,\n",
       "             interaction_constraints=None, learning_rate=0.1, max_bin=None,\n",
       "             max_cat_threshold=None, max_cat_to_onehot=None,\n",
       "             max_delta_step=None, max_depth=3, max_leaves=None,\n",
       "             min_child_weight=None, missing=nan, monotone_constraints=None,\n",
       "             n_estimators=10000, n_jobs=-1, num_parallel_tree=None,\n",
       "             predictor=None, random_state=0, ...)</pre></div></div></div></div></div>"
      ],
      "text/plain": [
       "XGBRegressor(base_score=None, booster=None, callbacks=None,\n",
       "             colsample_bylevel=None, colsample_bynode=None,\n",
       "             colsample_bytree=0.8, early_stopping_rounds=None,\n",
       "             enable_categorical=False, eval_metric='mae', feature_types=None,\n",
       "             gamma=None, gpu_id=None, grow_policy=None, importance_type=None,\n",
       "             interaction_constraints=None, learning_rate=0.1, max_bin=None,\n",
       "             max_cat_threshold=None, max_cat_to_onehot=None,\n",
       "             max_delta_step=None, max_depth=3, max_leaves=None,\n",
       "             min_child_weight=None, missing=nan, monotone_constraints=None,\n",
       "             n_estimators=10000, n_jobs=-1, num_parallel_tree=None,\n",
       "             predictor=None, random_state=0, ...)"
      ]
     },
     "execution_count": 28,
     "metadata": {},
     "output_type": "execute_result"
    }
   ],
   "source": [
    "xgb_reg = xgb.XGBRegressor(objective='reg:squarederror', n_estimators=10000, max_depth=3, colsample_bytree=.8,\n",
    "                          learning_rate=0.1, random_state=0, subsample=1, n_jobs=-1, eval_metric='mae',\n",
    "                          verbosity=0)\n",
    "xgb_reg.fit(X_train, y_train)"
   ]
  },
  {
   "cell_type": "code",
   "execution_count": null,
   "metadata": {},
   "outputs": [],
   "source": []
  },
  {
   "cell_type": "code",
   "execution_count": 29,
   "metadata": {
    "execution": {
     "iopub.execute_input": "2023-07-13T13:38:24.133111Z",
     "iopub.status.busy": "2023-07-13T13:38:24.132660Z",
     "iopub.status.idle": "2023-07-13T13:45:38.443678Z",
     "shell.execute_reply": "2023-07-13T13:45:38.442502Z",
     "shell.execute_reply.started": "2023-07-13T13:38:24.133068Z"
    }
   },
   "outputs": [
    {
     "data": {
      "text/plain": [
       "<catboost.core.CatBoostRegressor at 0x799a9a8f49d0>"
      ]
     },
     "execution_count": 29,
     "metadata": {},
     "output_type": "execute_result"
    }
   ],
   "source": [
    "catb_reg = CatBoostRegressor(loss_function='RMSE', iterations=10000, depth=3, colsample_bylevel=1,\n",
    "                             eval_metric='MAE', subsample=1, random_state=0, verbose=0, eta=.1)\n",
    "catb_reg.fit(X_train, y_train, cat_features=None)"
   ]
  },
  {
   "cell_type": "markdown",
   "metadata": {},
   "source": [
    "# 4. Data Evaluation"
   ]
  },
  {
   "cell_type": "code",
   "execution_count": 30,
   "metadata": {
    "execution": {
     "iopub.execute_input": "2023-07-13T13:45:38.445635Z",
     "iopub.status.busy": "2023-07-13T13:45:38.445246Z",
     "iopub.status.idle": "2023-07-13T13:45:38.458366Z",
     "shell.execute_reply": "2023-07-13T13:45:38.457149Z",
     "shell.execute_reply.started": "2023-07-13T13:45:38.445605Z"
    }
   },
   "outputs": [
    {
     "name": "stdout",
     "output_type": "stream",
     "text": [
      "17.81944201591283\n",
      "10.7602451851612\n"
     ]
    }
   ],
   "source": [
    "print(np.mean(y))\n",
    "print(np.std(y))"
   ]
  },
  {
   "cell_type": "code",
   "execution_count": null,
   "metadata": {},
   "outputs": [],
   "source": []
  },
  {
   "cell_type": "code",
   "execution_count": 31,
   "metadata": {
    "execution": {
     "iopub.execute_input": "2023-07-13T13:45:38.460476Z",
     "iopub.status.busy": "2023-07-13T13:45:38.460055Z",
     "iopub.status.idle": "2023-07-13T13:45:44.759296Z",
     "shell.execute_reply": "2023-07-13T13:45:44.758415Z",
     "shell.execute_reply.started": "2023-07-13T13:45:38.460421Z"
    }
   },
   "outputs": [],
   "source": [
    "predicted = gboost_reg.predict(X_test)"
   ]
  },
  {
   "cell_type": "code",
   "execution_count": 32,
   "metadata": {
    "execution": {
     "iopub.execute_input": "2023-07-13T13:45:44.761032Z",
     "iopub.status.busy": "2023-07-13T13:45:44.760617Z",
     "iopub.status.idle": "2023-07-13T13:45:44.774490Z",
     "shell.execute_reply": "2023-07-13T13:45:44.773301Z",
     "shell.execute_reply.started": "2023-07-13T13:45:44.760994Z"
    }
   },
   "outputs": [
    {
     "name": "stdout",
     "output_type": "stream",
     "text": [
      "2.8075817273024195\n",
      "18.436525699034373\n"
     ]
    }
   ],
   "source": [
    "print(mean_absolute_error(y_true=y_test, y_pred=predicted))\n",
    "print(mean_squared_error(y_true=y_test, y_pred=predicted))"
   ]
  },
  {
   "cell_type": "code",
   "execution_count": 33,
   "metadata": {
    "execution": {
     "iopub.execute_input": "2023-07-13T13:45:44.776928Z",
     "iopub.status.busy": "2023-07-13T13:45:44.775986Z",
     "iopub.status.idle": "2023-07-13T13:46:03.595147Z",
     "shell.execute_reply": "2023-07-13T13:46:03.594012Z",
     "shell.execute_reply.started": "2023-07-13T13:45:44.776894Z"
    }
   },
   "outputs": [
    {
     "name": "stdout",
     "output_type": "stream",
     "text": [
      "R-Squared Score (Training) : 0.8433541301618446\n",
      "R-Squared Score (Test) : 0.8406007292467028\n"
     ]
    }
   ],
   "source": [
    "print('R-Squared Score (Training) : {}'.format(r2_score(y_train, y_pred=gboost_reg.predict(X_train))))\n",
    "print('R-Squared Score (Test) : {}'.format(r2_score(y_true=y_test, y_pred=predicted)))"
   ]
  },
  {
   "cell_type": "code",
   "execution_count": null,
   "metadata": {},
   "outputs": [],
   "source": []
  },
  {
   "cell_type": "code",
   "execution_count": 34,
   "metadata": {
    "execution": {
     "iopub.execute_input": "2023-07-13T13:46:03.596921Z",
     "iopub.status.busy": "2023-07-13T13:46:03.596512Z",
     "iopub.status.idle": "2023-07-13T13:46:51.857226Z",
     "shell.execute_reply": "2023-07-13T13:46:51.856208Z",
     "shell.execute_reply.started": "2023-07-13T13:46:03.596874Z"
    }
   },
   "outputs": [],
   "source": [
    "predicted = xgb_reg.predict(X_test)"
   ]
  },
  {
   "cell_type": "code",
   "execution_count": 35,
   "metadata": {
    "execution": {
     "iopub.execute_input": "2023-07-13T13:46:51.859268Z",
     "iopub.status.busy": "2023-07-13T13:46:51.858860Z",
     "iopub.status.idle": "2023-07-13T13:46:51.869718Z",
     "shell.execute_reply": "2023-07-13T13:46:51.868239Z",
     "shell.execute_reply.started": "2023-07-13T13:46:51.859235Z"
    }
   },
   "outputs": [
    {
     "name": "stdout",
     "output_type": "stream",
     "text": [
      "2.3495707296683856\n",
      "15.968267683569493\n"
     ]
    }
   ],
   "source": [
    "print(mean_absolute_error(y_true=y_test, y_pred=predicted))\n",
    "print(mean_squared_error(y_true=y_test, y_pred=predicted))"
   ]
  },
  {
   "cell_type": "code",
   "execution_count": 36,
   "metadata": {
    "execution": {
     "iopub.execute_input": "2023-07-13T13:46:51.871804Z",
     "iopub.status.busy": "2023-07-13T13:46:51.871319Z",
     "iopub.status.idle": "2023-07-13T13:49:16.025375Z",
     "shell.execute_reply": "2023-07-13T13:49:16.024344Z",
     "shell.execute_reply.started": "2023-07-13T13:46:51.871767Z"
    }
   },
   "outputs": [
    {
     "name": "stdout",
     "output_type": "stream",
     "text": [
      "R-Squared Score (Training) : 0.8741520643497916\n",
      "R-Squared Score (Test) : 0.8619408957248527\n"
     ]
    }
   ],
   "source": [
    "print('R-Squared Score (Training) : {}'.format(r2_score(y_train, y_pred=xgb_reg.predict(X_train))))\n",
    "print('R-Squared Score (Test) : {}'.format(r2_score(y_true=y_test, y_pred=predicted)))"
   ]
  },
  {
   "cell_type": "code",
   "execution_count": null,
   "metadata": {},
   "outputs": [],
   "source": []
  },
  {
   "cell_type": "code",
   "execution_count": 37,
   "metadata": {
    "execution": {
     "iopub.execute_input": "2023-07-13T13:49:16.027945Z",
     "iopub.status.busy": "2023-07-13T13:49:16.027179Z",
     "iopub.status.idle": "2023-07-13T13:49:17.336034Z",
     "shell.execute_reply": "2023-07-13T13:49:17.334965Z",
     "shell.execute_reply.started": "2023-07-13T13:49:16.027911Z"
    }
   },
   "outputs": [],
   "source": [
    "predicted = catb_reg.predict(X_test)"
   ]
  },
  {
   "cell_type": "code",
   "execution_count": 38,
   "metadata": {
    "execution": {
     "iopub.execute_input": "2023-07-13T13:49:17.337862Z",
     "iopub.status.busy": "2023-07-13T13:49:17.337524Z",
     "iopub.status.idle": "2023-07-13T13:49:17.348252Z",
     "shell.execute_reply": "2023-07-13T13:49:17.346875Z",
     "shell.execute_reply.started": "2023-07-13T13:49:17.337835Z"
    }
   },
   "outputs": [
    {
     "name": "stdout",
     "output_type": "stream",
     "text": [
      "2.4032757583639346\n",
      "16.256068792483724\n"
     ]
    }
   ],
   "source": [
    "print(mean_absolute_error(y_true=y_test, y_pred=predicted))\n",
    "print(mean_squared_error(y_true=y_test, y_pred=predicted))"
   ]
  },
  {
   "cell_type": "code",
   "execution_count": 39,
   "metadata": {
    "execution": {
     "iopub.execute_input": "2023-07-13T13:49:17.349929Z",
     "iopub.status.busy": "2023-07-13T13:49:17.349610Z",
     "iopub.status.idle": "2023-07-13T13:49:21.209571Z",
     "shell.execute_reply": "2023-07-13T13:49:21.208507Z",
     "shell.execute_reply.started": "2023-07-13T13:49:17.349902Z"
    }
   },
   "outputs": [
    {
     "name": "stdout",
     "output_type": "stream",
     "text": [
      "R-Squared Score (Training) : 0.8646072961242905\n",
      "R-Squared Score (Test) : 0.8594526130824609\n"
     ]
    }
   ],
   "source": [
    "print('R-Squared Score (Training) : {}'.format(r2_score(y_train, y_pred=catb_reg.predict(X_train))))\n",
    "print('R-Squared Score (Test) : {}'.format(r2_score(y_true=y_test, y_pred=predicted)))"
   ]
  },
  {
   "cell_type": "code",
   "execution_count": null,
   "metadata": {},
   "outputs": [],
   "source": []
  }
 ],
 "metadata": {
  "kernelspec": {
   "display_name": "Python 3 (ipykernel)",
   "language": "python",
   "name": "python3"
  },
  "language_info": {
   "codemirror_mode": {
    "name": "ipython",
    "version": 3
   },
   "file_extension": ".py",
   "mimetype": "text/x-python",
   "name": "python",
   "nbconvert_exporter": "python",
   "pygments_lexer": "ipython3",
   "version": "3.10.9"
  },
  "varInspector": {
   "cols": {
    "lenName": 16,
    "lenType": 16,
    "lenVar": 40
   },
   "kernels_config": {
    "python": {
     "delete_cmd_postfix": "",
     "delete_cmd_prefix": "del ",
     "library": "var_list.py",
     "varRefreshCmd": "print(var_dic_list())"
    },
    "r": {
     "delete_cmd_postfix": ") ",
     "delete_cmd_prefix": "rm(",
     "library": "var_list.r",
     "varRefreshCmd": "cat(var_dic_list()) "
    }
   },
   "types_to_exclude": [
    "module",
    "function",
    "builtin_function_or_method",
    "instance",
    "_Feature"
   ],
   "window_display": false
  }
 },
 "nbformat": 4,
 "nbformat_minor": 4
}
